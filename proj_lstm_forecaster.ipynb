{
 "cells": [
  {
   "cell_type": "code",
   "execution_count": 1,
   "id": "66ff5158",
   "metadata": {},
   "outputs": [],
   "source": [
    "# imports\n",
    "import pandas as pd\n",
    "import numpy as np\n",
    "import tensorflow as tf\n",
    "import matplotlib.pyplot as plt\n",
    "plt.rcParams[\"figure.figsize\"] = (20,10)\n",
    "from sklearn.preprocessing import MinMaxScaler\n",
    "from sklearn.model_selection import train_test_split\n",
    "from keras.layers.recurrent import LSTM\n",
    "from keras.models import Sequential\n",
    "from keras.layers.core import Dense, Dropout, Activation\n",
    "from sklearn import preprocessing"
   ]
  },
  {
   "cell_type": "code",
   "execution_count": 2,
   "id": "8ccdf350",
   "metadata": {},
   "outputs": [],
   "source": [
    "# going to use tsla\n",
    "fn ='./proj_data_TSLA.csv'"
   ]
  },
  {
   "cell_type": "code",
   "execution_count": 3,
   "id": "e8bfefb3",
   "metadata": {},
   "outputs": [
    {
     "data": {
      "text/plain": [
       "(26276, 6)"
      ]
     },
     "execution_count": 3,
     "metadata": {},
     "output_type": "execute_result"
    }
   ],
   "source": [
    "# just loading the data here, if you want to see how it is gathered / graphs check Proj_pull_data \n",
    "df = pd.read_csv(fn, index_col=0)\n",
    "df.shape"
   ]
  },
  {
   "cell_type": "code",
   "execution_count": 4,
   "id": "fb53e0ec",
   "metadata": {},
   "outputs": [
    {
     "data": {
      "text/html": [
       "<div>\n",
       "<style scoped>\n",
       "    .dataframe tbody tr th:only-of-type {\n",
       "        vertical-align: middle;\n",
       "    }\n",
       "\n",
       "    .dataframe tbody tr th {\n",
       "        vertical-align: top;\n",
       "    }\n",
       "\n",
       "    .dataframe thead th {\n",
       "        text-align: right;\n",
       "    }\n",
       "</style>\n",
       "<table border=\"1\" class=\"dataframe\">\n",
       "  <thead>\n",
       "    <tr style=\"text-align: right;\">\n",
       "      <th></th>\n",
       "      <th>open</th>\n",
       "      <th>high</th>\n",
       "      <th>low</th>\n",
       "      <th>close</th>\n",
       "      <th>volume</th>\n",
       "      <th>datetime</th>\n",
       "    </tr>\n",
       "  </thead>\n",
       "  <tbody>\n",
       "    <tr>\n",
       "      <th>0</th>\n",
       "      <td>843.45</td>\n",
       "      <td>846.00</td>\n",
       "      <td>843.45</td>\n",
       "      <td>844.94</td>\n",
       "      <td>2431</td>\n",
       "      <td>2021-10-18 08:00:00</td>\n",
       "    </tr>\n",
       "    <tr>\n",
       "      <th>1</th>\n",
       "      <td>845.00</td>\n",
       "      <td>845.00</td>\n",
       "      <td>844.15</td>\n",
       "      <td>844.44</td>\n",
       "      <td>303</td>\n",
       "      <td>2021-10-18 08:01:00</td>\n",
       "    </tr>\n",
       "    <tr>\n",
       "      <th>2</th>\n",
       "      <td>846.00</td>\n",
       "      <td>846.00</td>\n",
       "      <td>846.00</td>\n",
       "      <td>846.00</td>\n",
       "      <td>300</td>\n",
       "      <td>2021-10-18 08:02:00</td>\n",
       "    </tr>\n",
       "    <tr>\n",
       "      <th>3</th>\n",
       "      <td>845.11</td>\n",
       "      <td>845.11</td>\n",
       "      <td>844.99</td>\n",
       "      <td>844.99</td>\n",
       "      <td>400</td>\n",
       "      <td>2021-10-18 08:03:00</td>\n",
       "    </tr>\n",
       "    <tr>\n",
       "      <th>4</th>\n",
       "      <td>845.61</td>\n",
       "      <td>845.61</td>\n",
       "      <td>845.00</td>\n",
       "      <td>845.00</td>\n",
       "      <td>918</td>\n",
       "      <td>2021-10-18 08:05:00</td>\n",
       "    </tr>\n",
       "  </tbody>\n",
       "</table>\n",
       "</div>"
      ],
      "text/plain": [
       "     open    high     low   close  volume             datetime\n",
       "0  843.45  846.00  843.45  844.94    2431  2021-10-18 08:00:00\n",
       "1  845.00  845.00  844.15  844.44     303  2021-10-18 08:01:00\n",
       "2  846.00  846.00  846.00  846.00     300  2021-10-18 08:02:00\n",
       "3  845.11  845.11  844.99  844.99     400  2021-10-18 08:03:00\n",
       "4  845.61  845.61  845.00  845.00     918  2021-10-18 08:05:00"
      ]
     },
     "execution_count": 4,
     "metadata": {},
     "output_type": "execute_result"
    }
   ],
   "source": [
    "# data is minute data for about 46 days minus after hours\n",
    "df.head()"
   ]
  },
  {
   "cell_type": "code",
   "execution_count": 5,
   "id": "102a7c3d",
   "metadata": {},
   "outputs": [],
   "source": [
    "# function for min-max normalization of stock\n",
    "def normalize_data(df):\n",
    "    min_max_scaler = MinMaxScaler()\n",
    "    df['open'] = min_max_scaler.fit_transform(df.open.values.reshape(-1,1))\n",
    "    df['high'] = min_max_scaler.fit_transform(df.high.values.reshape(-1,1))\n",
    "    df['low'] = min_max_scaler.fit_transform(df.low.values.reshape(-1,1))\n",
    "    df['close'] = min_max_scaler.fit_transform(df['close'].values.reshape(-1,1))\n",
    "    return df"
   ]
  },
  {
   "cell_type": "markdown",
   "id": "52b2bf5a-334d-4005-9168-5382ecf72c2e",
   "metadata": {},
   "source": [
    "### Creating Target Labels  \n",
    "The main idea is to calculate the percent change from the last high to the current high, this will be a percentage between -100 and 100. From there classify by the percent change as outlined below. After looking at the data there are very few values outside the range of -.5 to .5 \n",
    "\n",
    "The y is calculated as the percent change:  \n",
    "$$\n",
    "  Y=\\frac{(X_n-X_{n+1})}{X_n}*100\n",
    "$$\n",
    "From there the percent change is divided into 10 classes from -1 to 1 being:  \n",
    "[-100  -80  -60  -40  -20 0 20 40 60 80  100]  \n",
    "which correspond to class  \n",
    "[ 0,  1,  2,  3,  4,  5,  6,  7,  8,  9, 10]"
   ]
  },
  {
   "cell_type": "code",
   "execution_count": 6,
   "id": "7765d784-2d50-412d-aa92-b6c76179f906",
   "metadata": {},
   "outputs": [
    {
     "data": {
      "text/html": [
       "<div>\n",
       "<style scoped>\n",
       "    .dataframe tbody tr th:only-of-type {\n",
       "        vertical-align: middle;\n",
       "    }\n",
       "\n",
       "    .dataframe tbody tr th {\n",
       "        vertical-align: top;\n",
       "    }\n",
       "\n",
       "    .dataframe thead th {\n",
       "        text-align: right;\n",
       "    }\n",
       "</style>\n",
       "<table border=\"1\" class=\"dataframe\">\n",
       "  <thead>\n",
       "    <tr style=\"text-align: right;\">\n",
       "      <th></th>\n",
       "      <th>open</th>\n",
       "      <th>high</th>\n",
       "      <th>low</th>\n",
       "      <th>close</th>\n",
       "      <th>y</th>\n",
       "    </tr>\n",
       "  </thead>\n",
       "  <tbody>\n",
       "    <tr>\n",
       "      <th>1</th>\n",
       "      <td>0.003845</td>\n",
       "      <td>0.000000</td>\n",
       "      <td>0.007986</td>\n",
       "      <td>0.000000</td>\n",
       "      <td>-1.0</td>\n",
       "    </tr>\n",
       "    <tr>\n",
       "      <th>2</th>\n",
       "      <td>0.006326</td>\n",
       "      <td>0.002469</td>\n",
       "      <td>0.012564</td>\n",
       "      <td>0.003886</td>\n",
       "      <td>1.0</td>\n",
       "    </tr>\n",
       "    <tr>\n",
       "      <th>3</th>\n",
       "      <td>0.004118</td>\n",
       "      <td>0.000272</td>\n",
       "      <td>0.010065</td>\n",
       "      <td>0.001370</td>\n",
       "      <td>-1.0</td>\n",
       "    </tr>\n",
       "    <tr>\n",
       "      <th>4</th>\n",
       "      <td>0.005358</td>\n",
       "      <td>0.001506</td>\n",
       "      <td>0.010090</td>\n",
       "      <td>0.001395</td>\n",
       "      <td>1.0</td>\n",
       "    </tr>\n",
       "    <tr>\n",
       "      <th>5</th>\n",
       "      <td>0.006276</td>\n",
       "      <td>0.002469</td>\n",
       "      <td>0.010090</td>\n",
       "      <td>0.001395</td>\n",
       "      <td>1.0</td>\n",
       "    </tr>\n",
       "  </tbody>\n",
       "</table>\n",
       "</div>"
      ],
      "text/plain": [
       "       open      high       low     close    y\n",
       "1  0.003845  0.000000  0.007986  0.000000 -1.0\n",
       "2  0.006326  0.002469  0.012564  0.003886  1.0\n",
       "3  0.004118  0.000272  0.010065  0.001370 -1.0\n",
       "4  0.005358  0.001506  0.010090  0.001395  1.0\n",
       "5  0.006276  0.002469  0.010090  0.001395  1.0"
      ]
     },
     "execution_count": 6,
     "metadata": {},
     "output_type": "execute_result"
    }
   ],
   "source": [
    "# scaler fits data to between 0 and 1 \n",
    "# todo can we normalize all test/train or need to separate?\n",
    "dfn = normalize_data(df)\n",
    "\n",
    "# now lets turn this into a dataset with a window of data and a forecast target\n",
    "# so the y value will be the 'next' minute's high value\n",
    "# we calculate the %change between the 'next' high and the 'last' high\n",
    "# y = (X - X\n",
    "# NOTE !! a lot of manual tuning went in here to find a good way to scale data so there are a reasonable number of classes that are close to same size ! \n",
    "dfn['y'] = (((dfn['high']-dfn['high'].shift(1))/dfn['high'])*100).clip(-1,1)\n",
    "# force everything to this interval \n",
    "dfn['y'] = (dfn['y']//.5)*.5\n",
    "# we will clip our values at between -20 and +20 because there are very very few values outside that range\n",
    "# note that is just for this dataset, for hour candles it would be much different\n",
    "dfn['y'] = dfn['y'].round(2)\n",
    "# we will also get rid of the other columns and clean up nans\n",
    "df2 = dfn[['open','high','low','close','y']]\n",
    "# there will be a na for the first row only\n",
    "df2 = df2.replace([np.inf, -np.inf], np.nan)\n",
    "df2 = df2.dropna()\n",
    "# integers become the classes\n",
    "\n",
    "#df2['y'] = df2['y'].astype(int)\n",
    "df2.head()"
   ]
  },
  {
   "cell_type": "code",
   "execution_count": 7,
   "id": "e512bc6a-a7b8-491e-8a99-ca5b362b1e3b",
   "metadata": {},
   "outputs": [
    {
     "name": "stdout",
     "output_type": "stream",
     "text": [
      "-1.0    3997\n",
      "-0.5    9278\n",
      " 0.0    8971\n",
      " 0.5    2099\n",
      " 1.0    1930\n",
      "Name: y, dtype: int64\n",
      "Float64Index([-1.0, -0.5, 0.0, 0.5, 1.0], dtype='float64')\n"
     ]
    },
    {
     "data": {
      "text/plain": [
       "0    3997\n",
       "1    9278\n",
       "2    8971\n",
       "3    2099\n",
       "4    1930\n",
       "Name: yc, dtype: int64"
      ]
     },
     "execution_count": 7,
     "metadata": {},
     "output_type": "execute_result"
    }
   ],
   "source": [
    "# let's clean up our classes, instead of -5,5 0,10\n",
    "# new column 'yc' is Y Class\n",
    "df2['yc'] = df2['y']\n",
    "vc = df2['y'].value_counts(sort=False).sort_index(ascending=True)\n",
    "print(vc)\n",
    "keys = vc.keys()\n",
    "print(keys)\n",
    "df2['yc'].replace(keys, range(0,len(keys)), inplace=True)\n",
    "df2['yc'] = df2['yc'].astype(int)\n",
    "df2['yc'].value_counts().sort_index()"
   ]
  },
  {
   "cell_type": "markdown",
   "id": "a3f8ffb2-4907-4dcd-82e7-e656778de177",
   "metadata": {},
   "source": [
    "### Understanding the class labels  \n",
    "Let's take a second to talk about the labels. Please note the labels have changed since I wrote this, this is just an example.   \n",
    "-0.24    2041  = 0 -> large negative  \n",
    "-0.16    2651  = 1 -> medium negative  \n",
    "-0.08    7787  = 2 -> small negative  \n",
    " 0.00    9102  = 3 -> small positive  \n",
    " 0.08    2136  = 4 -> medium positive  \n",
    " 0.16    2550  = 5 -> large positive  \n",
    " After much tweaking I was able to get 6 classes with a reasonable distrubution across all of them. So this way we don't have a horrible unbalanced dataset. So all of the values at 0.00 (9102) are between 0.0 and 0.08 which from a trading perspective would mean a very small amount of profit if you are long. Likewise for the 7787 values between 0.0 and -.08 except those values would be a small loss. We could further break it down into just two classes 'going up' or 'going down' but I think there is value in classifying as is meaning basically (from a long perspective) [big loss, medum loss, small loss, small gain, medium gain, big gain] which seems realistic.  \n",
    "From there we don't want long float numbers as 'classes' so we replace them with a simple integer number, we can refer back to this to understand what the classes are."
   ]
  },
  {
   "cell_type": "code",
   "execution_count": 8,
   "id": "df1b4447",
   "metadata": {},
   "outputs": [],
   "source": [
    "Xw = []\n",
    "Yw = []\n",
    "w=[]\n",
    "for i,r in df2.iterrows():\n",
    "    if i<21:\n",
    "        # add the first to the window\n",
    "        w.append(r[['open','high','low','close']].values)\n",
    "    else:\n",
    "        # append the other rows to the window [:20]\n",
    "        w.append(r[['open','high','low','close']].values)\n",
    "        w = w[1:] # pop off  the first entry\n",
    "        Xw.append(np.array(w))\n",
    "        # we will need to shift this later !!\n",
    "        Yw.append(r['yc'])\n",
    "    # for testing, break early\n",
    "    #if i > 100:\n",
    "    #    break\n",
    "        \n",
    "#push into numpy array\n",
    "Xw = np.array(Xw)\n",
    "Yw = np.array(Yw)\n",
    "# Shift Y it should be the answer for the 'next\n",
    "# just copy the first value and push into start, will shift all to the right\n",
    "# that's wrong it would make it more latent, not less\n",
    "#Yw = np.insert(Yw,0,Yw[0])\n",
    "# need to pop the first value instead\n",
    "Yw = Yw[2:]\n",
    "\n",
    "# strip off the X that have no y, since we only have y for the next we lose the first ones\n",
    "Xw = Xw[:Yw.shape[0]]"
   ]
  },
  {
   "cell_type": "code",
   "execution_count": 9,
   "id": "b91ba524",
   "metadata": {},
   "outputs": [
    {
     "data": {
      "text/plain": [
       "(26253, 20, 4)"
      ]
     },
     "execution_count": 9,
     "metadata": {},
     "output_type": "execute_result"
    }
   ],
   "source": [
    "Xw.shape"
   ]
  },
  {
   "cell_type": "code",
   "execution_count": 10,
   "id": "ef08ce94",
   "metadata": {},
   "outputs": [
    {
     "data": {
      "text/plain": [
       "(26253,)"
      ]
     },
     "execution_count": 10,
     "metadata": {},
     "output_type": "execute_result"
    }
   ],
   "source": [
    "Yw.shape"
   ]
  },
  {
   "cell_type": "code",
   "execution_count": 13,
   "id": "f6d99aae",
   "metadata": {},
   "outputs": [
    {
     "data": {
      "text/plain": [
       "[2.0, 4.0, 0.0, 0.0, 4.0, 0.0, 4.0, 0.0, 4.0, 4.0]"
      ]
     },
     "execution_count": 13,
     "metadata": {},
     "output_type": "execute_result"
    }
   ],
   "source": [
    "# just glance at our y 'windowed' values\n",
    "list(Yw[0:10])"
   ]
  },
  {
   "cell_type": "code",
   "execution_count": 16,
   "id": "3f8869a5-08d9-46de-a344-0d9c32c1ebe9",
   "metadata": {},
   "outputs": [
    {
     "data": {
      "text/plain": [
       "[2, 4, 0, 0, 4, 0, 4, 0, 4, 4]"
      ]
     },
     "execution_count": 16,
     "metadata": {},
     "output_type": "execute_result"
    }
   ],
   "source": [
    "# Convert to integers because that's what's expected for the sparce categorical\n",
    "Yw = Yw.astype(np.int32)\n",
    "list(Yw[0:10])"
   ]
  },
  {
   "cell_type": "code",
   "execution_count": 17,
   "id": "da8f67ac-62dc-4ac3-a4f1-cf203acc5c8e",
   "metadata": {},
   "outputs": [
    {
     "name": "stdout",
     "output_type": "stream",
     "text": [
      "X Windowed Shape: (26253, 20, 4)  Y Windowed Shape: (26253,)\n"
     ]
    }
   ],
   "source": [
    "print('X Windowed Shape:',Xw.shape,' Y Windowed Shape:',Yw.shape)"
   ]
  },
  {
   "cell_type": "code",
   "execution_count": 18,
   "id": "4cd1efe3-a7ad-42c0-8837-43c338b60426",
   "metadata": {},
   "outputs": [
    {
     "name": "stdout",
     "output_type": "stream",
     "text": [
      "Shapes: (19689, 20, 4) (6564, 20, 4) (19689,) (6564,)\n"
     ]
    }
   ],
   "source": [
    "#X_train ,X_test, y_train, y_test = train_test_split(Xw,tf.keras.utils.to_categorical(Yw), test_size=.25)\n",
    "X_train ,X_test, y_train, y_test = train_test_split(Xw,Yw, test_size=.25)\n",
    "print('Shapes:',X_train.shape ,X_test.shape, y_train.shape, y_test.shape)"
   ]
  },
  {
   "cell_type": "code",
   "execution_count": 19,
   "id": "b704d7ab",
   "metadata": {},
   "outputs": [],
   "source": [
    "def build_model(layers): # build a LSTM model\n",
    "    d = 0.3\n",
    "    model = Sequential()\n",
    "    \n",
    "    model.add(LSTM(64, input_shape=(layers[1], layers[0]), return_sequences=True))\n",
    "    model.add(Dropout(d)) # with probability of 0.3\n",
    "        \n",
    "    model.add(LSTM(64, input_shape=(layers[1], layers[0]), return_sequences=False))\n",
    "    model.add(Dropout(d)) # with probability of 0.3\n",
    "        \n",
    "    model.add(Dense(32,kernel_initializer=\"uniform\",activation='relu'))  \n",
    "          \n",
    "    model.add(Dense(layers[2],activation='relu'))\n",
    "    \n",
    "    # at 0.0001 acc max at 38%\n",
    "    # at 0.001 ?\n",
    "    model.compile(optimizer=tf.optimizers.Adam(learning_rate=0.001,\n",
    "                                       beta_1=0.9,\n",
    "                                       beta_2=0.999,\n",
    "                                       epsilon=1e-07,\n",
    "                                       amsgrad=False,\n",
    "                                       name='Adam'\n",
    "                                       ),\n",
    "                  loss='sparse_categorical_crossentropy', metrics=['accuracy'])\n",
    "    return model"
   ]
  },
  {
   "cell_type": "code",
   "execution_count": 20,
   "id": "b6e0cc45-2c9c-4a3d-ac14-54e4a6020b03",
   "metadata": {},
   "outputs": [
    {
     "name": "stdout",
     "output_type": "stream",
     "text": [
      "Model: \"sequential\"\n",
      "_________________________________________________________________\n",
      "Layer (type)                 Output Shape              Param #   \n",
      "=================================================================\n",
      "lstm (LSTM)                  (None, 20, 64)            17664     \n",
      "_________________________________________________________________\n",
      "dropout (Dropout)            (None, 20, 64)            0         \n",
      "_________________________________________________________________\n",
      "lstm_1 (LSTM)                (None, 64)                33024     \n",
      "_________________________________________________________________\n",
      "dropout_1 (Dropout)          (None, 64)                0         \n",
      "_________________________________________________________________\n",
      "dense (Dense)                (None, 32)                2080      \n",
      "_________________________________________________________________\n",
      "dense_1 (Dense)              (None, 5)                 165       \n",
      "=================================================================\n",
      "Total params: 52,933\n",
      "Trainable params: 52,933\n",
      "Non-trainable params: 0\n",
      "_________________________________________________________________\n",
      "Epoch 1/20\n",
      "200/200 [==============================] - 99s 468ms/step - loss: 1.6611 - accuracy: 0.3634 - val_loss: 1.3563 - val_accuracy: 0.3756\n",
      "Epoch 2/20\n",
      "200/200 [==============================] - 94s 469ms/step - loss: 1.3667 - accuracy: 0.3807 - val_loss: 1.3525 - val_accuracy: 0.3779\n",
      "Epoch 3/20\n",
      "200/200 [==============================] - 99s 494ms/step - loss: 1.3554 - accuracy: 0.3774 - val_loss: 1.3509 - val_accuracy: 0.3743\n",
      "Epoch 4/20\n",
      "200/200 [==============================] - 92s 460ms/step - loss: 1.3631 - accuracy: 0.3815 - val_loss: 1.3502 - val_accuracy: 0.3756\n",
      "Epoch 5/20\n",
      "200/200 [==============================] - 93s 467ms/step - loss: 1.3856 - accuracy: 0.3663 - val_loss: 1.3672 - val_accuracy: 0.3545\n",
      "Epoch 6/20\n",
      "200/200 [==============================] - 91s 456ms/step - loss: 1.3613 - accuracy: 0.3736 - val_loss: 1.3525 - val_accuracy: 0.3735\n",
      "Epoch 7/20\n",
      "200/200 [==============================] - 92s 459ms/step - loss: 1.3604 - accuracy: 0.3716 - val_loss: 1.3502 - val_accuracy: 0.3740\n",
      "Epoch 8/20\n",
      "200/200 [==============================] - 94s 470ms/step - loss: 1.3569 - accuracy: 0.3791 - val_loss: 1.3498 - val_accuracy: 0.3768\n",
      "Epoch 9/20\n",
      "200/200 [==============================] - 95s 473ms/step - loss: 1.3571 - accuracy: 0.3819 - val_loss: 1.3475 - val_accuracy: 0.3702\n",
      "Epoch 10/20\n",
      "200/200 [==============================] - 95s 473ms/step - loss: 1.3539 - accuracy: 0.3811 - val_loss: 1.3464 - val_accuracy: 0.3674\n",
      "Epoch 11/20\n",
      "200/200 [==============================] - 91s 457ms/step - loss: 1.3557 - accuracy: 0.3790 - val_loss: 1.3473 - val_accuracy: 0.3723\n",
      "Epoch 12/20\n",
      "200/200 [==============================] - 92s 458ms/step - loss: 1.3517 - accuracy: 0.3787 - val_loss: 1.3441 - val_accuracy: 0.3743\n",
      "Epoch 13/20\n",
      "200/200 [==============================] - 91s 457ms/step - loss: 1.3525 - accuracy: 0.3826 - val_loss: 1.3473 - val_accuracy: 0.3738\n",
      "Epoch 14/20\n",
      "200/200 [==============================] - 92s 458ms/step - loss: 1.3533 - accuracy: 0.3821 - val_loss: 1.3470 - val_accuracy: 0.3733\n",
      "Epoch 15/20\n",
      "200/200 [==============================] - 92s 458ms/step - loss: 1.3543 - accuracy: 0.3813 - val_loss: 1.3474 - val_accuracy: 0.3758\n",
      "Epoch 16/20\n",
      "200/200 [==============================] - 91s 457ms/step - loss: 1.3546 - accuracy: 0.3814 - val_loss: 1.3451 - val_accuracy: 0.3761\n",
      "Epoch 17/20\n",
      "200/200 [==============================] - 91s 458ms/step - loss: 1.3563 - accuracy: 0.3790 - val_loss: 1.3460 - val_accuracy: 0.3766\n",
      "Epoch 18/20\n",
      "200/200 [==============================] - 92s 458ms/step - loss: 1.3468 - accuracy: 0.3808 - val_loss: 1.3487 - val_accuracy: 0.3776\n",
      "Epoch 19/20\n",
      "200/200 [==============================] - 92s 458ms/step - loss: 1.3604 - accuracy: 0.3801 - val_loss: 1.3560 - val_accuracy: 0.3756\n",
      "Epoch 20/20\n",
      "200/200 [==============================] - 91s 457ms/step - loss: 1.3486 - accuracy: 0.3891 - val_loss: 1.3449 - val_accuracy: 0.3763\n"
     ]
    }
   ],
   "source": [
    "model = build_model([4,20,Yw.max()+1])\n",
    "model.summary()\n",
    "hist = model.fit(X_train,y_train,validation_split=.2,batch_size=64,epochs=20,steps_per_epoch=200)"
   ]
  },
  {
   "cell_type": "code",
   "execution_count": 16,
   "id": "5a5aedfb-3189-4cc8-8e0d-e191ccfa765a",
   "metadata": {},
   "outputs": [
    {
     "name": "stdout",
     "output_type": "stream",
     "text": [
      "206/206 [==============================] - 12s 57ms/step - loss: 1.3524 - accuracy: 0.3844 ETA: 0s - loss: 1.3530 - accura\n"
     ]
    },
    {
     "data": {
      "text/plain": [
       "[1.3524144887924194, 0.38436928391456604]"
      ]
     },
     "execution_count": 16,
     "metadata": {},
     "output_type": "execute_result"
    }
   ],
   "source": [
    "model.evaluate(X_test,y_test)"
   ]
  },
  {
   "cell_type": "code",
   "execution_count": 17,
   "id": "9ff07a98-efbc-4d04-a953-a83efb5809a8",
   "metadata": {},
   "outputs": [
    {
     "data": {
      "image/png": "[encoded data removed]",
      "text/plain": [
       "<Figure size 1440x720 with 1 Axes>"
      ]
     },
     "metadata": {
      "needs_background": "light"
     },
     "output_type": "display_data"
    }
   ],
   "source": [
    "# plot the loss, note since this is a time series problem accuracy does not make much sense\n",
    "#plt.plot(hist.history['loss'])\n",
    "plt.plot(hist.history['accuracy'])\n",
    "plt.show()"
   ]
  },
  {
   "cell_type": "markdown",
   "id": "66f3ac3f-023d-4c23-adfe-ffedee3f9188",
   "metadata": {},
   "source": [
    "### Save Point"
   ]
  },
  {
   "cell_type": "code",
   "execution_count": 20,
   "id": "ddbeee0f-5daa-4ecf-a902-b6ee2cc9f9f7",
   "metadata": {},
   "outputs": [],
   "source": [
    "# save off all data, so we can start again from here instead of redoing all above\n",
    "np.save('Xw.np',Xw)\n",
    "np.save('Yw.np',Yw)\n",
    "model.save('lstm_forecaster.h5')\n"
   ]
  },
  {
   "cell_type": "markdown",
   "id": "1cf3ec17-d6b3-4891-a612-5e5c8c612ca8",
   "metadata": {},
   "source": [
    "### Conclusion  \n",
    "It is clear to see that this model fails to achive any decent results. Not only because the accuracy is so low, but also because there was little to no improvement from the starting accuracy. In other words improving from 35% accuracy to 37% accuracy is worse than improving from 5% to 25%, it shows there is no real improvement.  "
   ]
  }
 ],
 "metadata": {
  "kernelspec": {
   "display_name": "Python 3 (ipykernel)",
   "language": "python",
   "name": "python3"
  },
  "language_info": {
   "codemirror_mode": {
    "name": "ipython",
    "version": 3
   },
   "file_extension": ".py",
   "mimetype": "text/x-python",
   "name": "python",
   "nbconvert_exporter": "python",
   "pygments_lexer": "ipython3",
   "version": "3.9.7"
  }
 },
 "nbformat": 4,
 "nbformat_minor": 5
}
